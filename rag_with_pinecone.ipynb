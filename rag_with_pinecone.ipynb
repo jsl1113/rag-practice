{
 "cells": [
  {
   "cell_type": "markdown",
   "metadata": {},
   "source": [
    "1. 문서의 내용을 읽는다 (w. Document Loaders)\n",
    "2. 문서를 쪼갠다\n",
    "    1. 토큰 수 초과로 답변을 생성하지 못할 수 있고,\n",
    "    2. 문서가 길면 답변 생성이 오래걸림\n",
    "3. 임베딩 후 벡터 데이터베이스에 저장\n",
    "4. 질문이 있을 때, 벡터 데이터베이스에 유사도 검색\n",
    "5. 유사도 검색으로 가져온 문서를 LLM에 질문과 같이 전달"
   ]
  },
  {
   "cell_type": "code",
   "execution_count": 20,
   "metadata": {},
   "outputs": [],
   "source": [
    "# %pip install --upgrade --quiet docx2txt langchain-community\n",
    "# %pip install -qU langchain-text-splitters\n",
    "# %pip install langchain-chroma\n",
    "# %pip install --upgrade pip setuptools wheel\n",
    "# %pip install -U langchain langchainhub --quiet\n",
    "# %pip install --upgrade --quiet langchain-pinecone"
   ]
  },
  {
   "cell_type": "code",
   "execution_count": 21,
   "metadata": {},
   "outputs": [],
   "source": [
    "from langchain_community.document_loaders import Docx2txtLoader\n",
    "from langchain_text_splitters import RecursiveCharacterTextSplitter\n",
    "\n",
    "loader = Docx2txtLoader(\"./tax.docx\")\n",
    "# document = loader.load()\n",
    "\n",
    "# print(document)\n",
    "# len(document)\n",
    "\n",
    "text_splitter = RecursiveCharacterTextSplitter(\n",
    "    chunk_size = 1500,  # 문서 쪼갤 때 하나의 chunk 가 가지는 토큰 수\n",
    "    chunk_overlap = 200,  # 쪼갤 때, 별개로 짜르는 게 아니라, 겹치게 해서 split \n",
    ")\n",
    "\n",
    "document_list = loader.load_and_split(text_splitter=text_splitter)\n",
    "# print(document_list)"
   ]
  },
  {
   "cell_type": "code",
   "execution_count": 22,
   "metadata": {},
   "outputs": [],
   "source": [
    "from dotenv import load_dotenv\n",
    "from langchain_openai import OpenAIEmbeddings\n",
    "\n",
    "load_dotenv() # 환경변수 불러오기 \n",
    "\n",
    "# OpenAI에서 제공하는 Embedding Model을 활용해서 `chunk`를 vector화\n",
    "embedding = OpenAIEmbeddings(model='text-embedding-3-large') "
   ]
  },
  {
   "cell_type": "code",
   "execution_count": 23,
   "metadata": {},
   "outputs": [],
   "source": [
    "# pinecone 적용 \n",
    "import os \n",
    "\n",
    "from pinecone import Pinecone\n",
    "from langchain_pinecone import PineconeVectorStore\n",
    "\n",
    "index_name = 'tax-index'\n",
    "pinecone_api_key = os.environ.get(\"PINECONE_API_KEY\")\n",
    "\n",
    "pc = Pinecone(api_key=pinecone_api_key)\n",
    "\n",
    "# split 된 document 들이 임베딩돼서 Pinecone 으로 들어감 \n",
    "database = PineconeVectorStore.from_documents(document_list, embedding, index_name=index_name)"
   ]
  },
  {
   "cell_type": "code",
   "execution_count": 24,
   "metadata": {},
   "outputs": [
    {
     "data": {
      "text/plain": [
       "[Document(id='3563a06c-e129-4901-8770-8cf4388f7a0c', metadata={'source': './tax.docx'}, page_content='가. 연금소득자의 나이에 따른 다음의 세율\\n\\n      \\n\\n    나. 삭제 <2014. 12. 23.>\\n\\n    다. 사망할 때까지 연금수령하는 대통령령으로 정하는 종신계약에 따라 받는 연금소득에 대해서는 100분의 4\\n\\n  5의3. 제20조의3제1항제2호가목에 따라 퇴직소득을 연금수령하는 연금소득에 대해서는 다음 각 목의 구분에 따른 세율. 이 경우 연금 실제 수령연차 및 연금외수령 원천징수세율의 구체적인 내용은 대통령령으로 정한다.\\n\\n    가. 연금 실제 수령연차가 10년 이하인 경우: 연금외수령 원천징수세율의 100분의 70\\n\\n    나. 연금 실제 수령연차가 10년을 초과하는 경우: 연금외수령 원천징수세율의 100분의 60\\n\\n  6. 기타소득에 대해서는 다음에 규정하는 세율. 다만, 제8호를 적용받는 경우는 제외한다.\\n\\n    가. 제14조제3항제8호라목 및 마목에 해당하는 소득금액이 3억원을 초과하는 경우 그 초과하는 분에 대해서는 100분의 30\\n\\n    나. 제21조제1항제18호 및 제21호에 따른 기타소득에 대해서는 100분의 15\\n\\n    다. 삭제 <2014. 12. 23.>\\n\\n    라. 그 밖의 기타소득에 대해서는 100분의 20\\n\\n  7. 퇴직소득에 대해서는 기본세율\\n\\n  8. 대통령령으로 정하는 봉사료에 대해서는 100분의 5\\n\\n  9. 대통령령으로 정하는 금융투자소득에 대해서는 100분의 20\\n\\n  ② 제1항에도 불구하고 다음 각 호의 이자소득 및 배당소득에 대해서는 다음 각 호에서 정하는 세율을 원천징수세율로 한다. <개정 2013. 1. 1., 2017. 12. 19., 2018. 12. 31., 2022. 12. 31.>\\n\\n  1. 「민사집행법」 제113조 및 같은 법 제142조에 따라 법원에 납부한 보증금 및 경락대금에서 발생하는 이자소득에 대해서는 100분의 14\\n\\n  2. 대통령령으로 정하는 실지명의가 확인되지 아니하는 소득에 대해서는 100분의 45. 다만, 「금융실명거래 및 비밀보장에 관한 법률」 제5조가 적용되는 경우에는 같은 조에서 정한 세율로 한다.\\n\\n  ③ 매월분의 근로소득과 공적연금소득에 대한 원천징수세율을 적용할 때에는 제1항제4호 및 제5호에도 불구하고 대통령령으로 정하는 근로소득 간이세액표(이하 “근로소득 간이세액표”라 한다) 및 연금소득 간이세액표(이하 “연금소득 간이세액표”라 한다)를 적용한다. <개정 2013. 1. 1.>\\n\\n  ④ 제1항에 따라 원천징수세액을 계산할 때 제127조제1항제1호, 제2호 및 제9호의 소득에 대해서 외국에서 대통령령으로 정하는 외국소득세액을 납부한 경우에는 제1항에 따라 계산한 원천징수세액에서 그 외국소득세액을 뺀 금액을 원천징수세액으로 한다. 이 경우 외국소득세액이 제1항에 따라 계산한 원천징수세액을 초과하는 경우에는 그 초과하는 금액은 없는 것으로 한다. <개정 2021. 12. 8., 2022. 12. 31.>\\n\\n  1. 삭제 <2022. 12. 31.>\\n\\n  2. 삭제 <2022. 12. 31.>'),\n",
       " Document(id='31e93978-dd73-44e8-8ffe-1fd81be6afaa', metadata={'source': './tax.docx'}, page_content='21. 제1호부터 제20호까지의 규정에 따른 소득과 유사한 소득으로서 영리를 목적으로 자기의 계산과 책임 하에 계속적ㆍ반복적으로 행하는 활동을 통하여 얻는 소득\\n\\n  ② 사업소득금액은 해당 과세기간의 총수입금액에서 이에 사용된 필요경비를 공제한 금액으로 하며, 필요경비가 총수입금액을 초과하는 경우 그 초과하는 금액을 “결손금”이라 한다.\\n\\n  ③ 제1항 각 호에 따른 사업의 범위에 관하여는 이 법에 특별한 규정이 있는 경우 외에는 「통계법」 제22조에 따라 통계청장이 고시하는 한국표준산업분류에 따르고, 그 밖의 사업소득의 범위에 관하여 필요한 사항은 대통령령으로 정한다.\\n\\n  [전문개정 2009. 12. 31.]\\n\\n제20조(근로소득) ① 근로소득은 해당 과세기간에 발생한 다음 각 호의 소득으로 한다. <개정 2016. 12. 20.>\\n\\n  1. 근로를 제공함으로써 받는 봉급ㆍ급료ㆍ보수ㆍ세비ㆍ임금ㆍ상여ㆍ수당과 이와 유사한 성질의 급여\\n\\n  2. 법인의 주주총회ㆍ사원총회 또는 이에 준하는 의결기관의 결의에 따라 상여로 받는 소득\\n\\n  3. 「법인세법」에 따라 상여로 처분된 금액\\n\\n  4. 퇴직함으로써 받는 소득으로서 퇴직소득에 속하지 아니하는 소득\\n\\n  5. 종업원등 또는 대학의 교직원이 지급받는 직무발명보상금(제21조제1항제22호의2에 따른 직무발명보상금은 제외한다)\\n\\n  ② 근로소득금액은 제1항 각 호의 소득의 금액의 합계액(비과세소득의 금액은 제외하며, 이하 “총급여액”이라 한다)에서 제47조에 따른 근로소득공제를 적용한 금액으로 한다.\\n\\n  ③ 근로소득의 범위에 관하여 필요한 사항은 대통령령으로 정한다.\\n\\n  [전문개정 2009. 12. 31.]\\n\\n제20조의2 삭제 <2006. 12. 30.>\\n\\n제20조의3(연금소득) ① 연금소득은 해당 과세기간에 발생한 다음 각 호의 소득으로 한다. <개정 2013. 1. 1., 2014. 1. 1., 2014. 12. 23., 2023. 12. 31.>\\n\\n  1. 공적연금 관련법에 따라 받는 각종 연금(이하 “공적연금소득”이라 한다)\\n\\n  2. 다음 각 목에 해당하는 금액을 그 소득의 성격에도 불구하고 연금계좌[“연금저축”의 명칭으로 설정하는 대통령령으로 정하는 계좌(이하 “연금저축계좌”라 한다) 또는 퇴직연금을 지급받기 위하여 설정하는 대통령령으로 정하는 계좌(이하 “퇴직연금계좌”라 한다)를 말한다. 이하 같다]에서 대통령령으로 정하는 연금형태 등으로 인출(이하 “연금수령”이라 하며, 연금수령 외의 인출은 “연금외수령”이라 한다)하는 경우의 그 연금\\n\\n    가. 제146조제2항에 따라 원천징수되지 아니한 퇴직소득\\n\\n    나. 제59조의3에 따라 세액공제를 받은 연금계좌 납입액\\n\\n    다. 연금계좌의 운용실적에 따라 증가된 금액\\n\\n    라. 그 밖에 연금계좌에 이체 또는 입금되어 해당 금액에 대한 소득세가 이연(移延)된 소득으로서 대통령령으로 정하는 소득\\n\\n  3. 제2호에 따른 소득과 유사하고 연금 형태로 받는 것으로서 대통령령으로 정하는 소득'),\n",
       " Document(id='e0708025-80bb-441a-9281-65686dbcdf6b', metadata={'source': './tax.docx'}, page_content='③ 다음 각 호에 따른 소득의 금액은 종합소득과세표준을 계산할 때 합산하지 아니한다. <개정 2010. 12. 27., 2011. 7. 14., 2013. 1. 1., 2014. 12. 23., 2015. 12. 15., 2017. 12. 19., 2018. 12. 31., 2019. 12. 31., 2020. 12. 29., 2023. 12. 31.>\\n\\n  1. 「조세특례제한법」 또는 이 법 제12조에 따라 과세되지 아니하는 소득\\n\\n  2. 대통령령으로 정하는 일용근로자(이하 “일용근로자”라 한다)의 근로소득\\n\\n  3. 제129조제2항의 세율에 따라 원천징수하는 이자소득 및 배당소득과 제16조제1항제10호에 따른 직장공제회 초과반환금\\n\\n  4. 법인으로 보는 단체 외의 단체 중 수익을 구성원에게 배분하지 아니하는 단체로서 단체명을 표기하여 금융거래를 하는 단체가 「금융실명거래 및 비밀보장에 관한 법률」 제2조제1호 각 목의 어느 하나에 해당하는 금융회사등(이하 “금융회사등”이라 한다)으로부터 받는 이자소득 및 배당소득\\n\\n  5. 「조세특례제한법」에 따라 분리과세되는 소득\\n\\n  6. 제3호부터 제5호까지의 규정 외의 이자소득과 배당소득(제17조제1항제8호에 따른 배당소득은 제외한다)으로서 그 소득의 합계액이 2천만원(이하 “이자소득등의 종합과세기준금액”이라 한다) 이하이면서 제127조에 따라 원천징수된 소득\\n\\n  7. 해당 과세기간에 대통령령으로 정하는 총수입금액의 합계액이 2천만원 이하인 자의 주택임대소득(이하 “분리과세 주택임대소득”이라 한다). 이 경우 주택임대소득의 산정 등에 필요한 사항은 대통령령으로 정한다.\\n\\n  8. 다음 각 목에 해당하는 기타소득(이하 “분리과세기타소득”이라 한다)\\n\\n    가. 제21조제1항제1호부터 제8호까지, 제8호의2, 제9호부터 제20호까지, 제22호, 제22호의2 및 제26호에 따른 기타소득(라목 및 마목의 소득은 제외한다)으로서 같은 조 제3항에 따른 기타소득금액이 300만원 이하이면서 제127조에 따라 원천징수(제127조제1항제6호나목에 해당하여 원천징수되지 아니하는 경우를 포함한다)된 소득. 다만, 해당 소득이 있는 거주자가 종합소득과세표준을 계산할 때 그 소득을 합산하려는 경우 그 소득은 분리과세기타소득에서 제외한다.\\n\\n    나. 제21조제1항제21호에 따른 연금외수령한 기타소득\\n\\n    다. 제21조제1항제27호 및 같은 조 제2항에 따른 기타소득\\n\\n    라. 제21조제1항제2호에 따른 기타소득 중 「복권 및 복권기금법」 제2조에 따른 복권 당첨금\\n\\n    마. 그 밖에 제21조제1항에 따른 기타소득 중 라목과 유사한 소득으로서 대통령령으로 정하는 기타소득\\n\\n  9. 제20조의3제1항제2호 및 제3호에 따른 연금소득 중 다음 각 목에 해당하는 연금소득(다목의 소득이 있는 거주자가 종합소득 과세표준을 계산할 때 이를 합산하려는 경우는 제외하며, 이하 “분리과세연금소득”이라 한다)\\n\\n    가. 제20조의3제1항제2호가목에 따라 퇴직소득을 연금수령하는 연금소득'),\n",
       " Document(id='e8182499-5092-42a2-9981-62f6785536d1', metadata={'source': './tax.docx'}, page_content='③ 다음 각 호에 따른 소득의 금액은 종합소득과세표준을 계산할 때 합산하지 아니한다. <개정 2010. 12. 27., 2011. 7. 14., 2013. 1. 1., 2014. 12. 23., 2015. 12. 15., 2017. 12. 19., 2018. 12. 31., 2019. 12. 31., 2020. 12. 29., 2023. 12. 31.>\\n\\n  1. 「조세특례제한법」 또는 이 법 제12조에 따라 과세되지 아니하는 소득\\n\\n  2. 대통령령으로 정하는 일용근로자(이하 “일용근로자”라 한다)의 근로소득\\n\\n  3. 제129조제2항의 세율에 따라 원천징수하는 이자소득 및 배당소득과 제16조제1항제10호에 따른 직장공제회 초과반환금\\n\\n  4. 법인으로 보는 단체 외의 단체 중 수익을 구성원에게 배분하지 아니하는 단체로서 단체명을 표기하여 금융거래를 하는 단체가 「금융실명거래 및 비밀보장에 관한 법률」 제2조제1호 각 목의 어느 하나에 해당하는 금융회사등(이하 “금융회사등”이라 한다)으로부터 받는 이자소득 및 배당소득\\n\\n  5. 「조세특례제한법」에 따라 분리과세되는 소득\\n\\n  6. 제3호부터 제5호까지의 규정 외의 이자소득과 배당소득(제17조제1항제8호에 따른 배당소득은 제외한다)으로서 그 소득의 합계액이 2천만원(이하 “이자소득등의 종합과세기준금액”이라 한다) 이하이면서 제127조에 따라 원천징수된 소득\\n\\n  7. 해당 과세기간에 대통령령으로 정하는 총수입금액의 합계액이 2천만원 이하인 자의 주택임대소득(이하 “분리과세 주택임대소득”이라 한다). 이 경우 주택임대소득의 산정 등에 필요한 사항은 대통령령으로 정한다.\\n\\n  8. 다음 각 목에 해당하는 기타소득(이하 “분리과세기타소득”이라 한다)\\n\\n    가. 제21조제1항제1호부터 제8호까지, 제8호의2, 제9호부터 제20호까지, 제22호, 제22호의2 및 제26호에 따른 기타소득(라목 및 마목의 소득은 제외한다)으로서 같은 조 제3항에 따른 기타소득금액이 300만원 이하이면서 제127조에 따라 원천징수(제127조제1항제6호나목에 해당하여 원천징수되지 아니하는 경우를 포함한다)된 소득. 다만, 해당 소득이 있는 거주자가 종합소득과세표준을 계산할 때 그 소득을 합산하려는 경우 그 소득은 분리과세기타소득에서 제외한다.\\n\\n    나. 제21조제1항제21호에 따른 연금외수령한 기타소득\\n\\n    다. 제21조제1항제27호 및 같은 조 제2항에 따른 기타소득\\n\\n    라. 제21조제1항제2호에 따른 기타소득 중 「복권 및 복권기금법」 제2조에 따른 복권 당첨금\\n\\n    마. 그 밖에 제21조제1항에 따른 기타소득 중 라목과 유사한 소득으로서 대통령령으로 정하는 기타소득\\n\\n  9. 제20조의3제1항제2호 및 제3호에 따른 연금소득 중 다음 각 목에 해당하는 연금소득(다목의 소득이 있는 거주자가 종합소득 과세표준을 계산할 때 이를 합산하려는 경우는 제외하며, 이하 “분리과세연금소득”이라 한다)\\n\\n    가. 제20조의3제1항제2호가목에 따라 퇴직소득을 연금수령하는 연금소득')]"
      ]
     },
     "execution_count": 24,
     "metadata": {},
     "output_type": "execute_result"
    }
   ],
   "source": [
    "query = '연봉 5천만원인 직장인의 소득세는 얼마인가요?'\n",
    "\n",
    "retriever = database.as_retriever(search_kwargs={'k': 4})\n",
    "retriever.invoke(query)"
   ]
  },
  {
   "cell_type": "code",
   "execution_count": 25,
   "metadata": {},
   "outputs": [],
   "source": [
    "from langchain_openai import ChatOpenAI\n",
    "\n",
    "llm = ChatOpenAI(model='gpt-4o')"
   ]
  },
  {
   "cell_type": "code",
   "execution_count": 26,
   "metadata": {},
   "outputs": [
    {
     "name": "stderr",
     "output_type": "stream",
     "text": [
      "d:\\Program\\miniconda3\\envs\\study\\Lib\\site-packages\\langsmith\\client.py:241: LangSmithMissingAPIKeyWarning: API key must be provided when using hosted LangSmith API\n",
      "  warnings.warn(\n"
     ]
    }
   ],
   "source": [
    "from langchain import hub\n",
    "\n",
    "prompt = hub.pull(\"rlm/rag-prompt\")"
   ]
  },
  {
   "cell_type": "code",
   "execution_count": 27,
   "metadata": {},
   "outputs": [
    {
     "data": {
      "text/plain": [
       "ChatPromptTemplate(input_variables=['context', 'question'], input_types={}, partial_variables={}, metadata={'lc_hub_owner': 'rlm', 'lc_hub_repo': 'rag-prompt', 'lc_hub_commit_hash': '50442af133e61576e74536c6556cefe1fac147cad032f4377b60c436e6cdcb6e'}, messages=[HumanMessagePromptTemplate(prompt=PromptTemplate(input_variables=['context', 'question'], input_types={}, partial_variables={}, template=\"You are an assistant for question-answering tasks. Use the following pieces of retrieved context to answer the question. If you don't know the answer, just say that you don't know. Use three sentences maximum and keep the answer concise.\\nQuestion: {question} \\nContext: {context} \\nAnswer:\"), additional_kwargs={})])"
      ]
     },
     "execution_count": 27,
     "metadata": {},
     "output_type": "execute_result"
    }
   ],
   "source": [
    "prompt"
   ]
  },
  {
   "cell_type": "code",
   "execution_count": 28,
   "metadata": {},
   "outputs": [
    {
     "name": "stdout",
     "output_type": "stream",
     "text": [
      "연봉 5천만원인 직장인의 소득세는 얼마인가요?\n",
      "죄송하지만 제공된 문맥에서는 연봉 5천만원인 직장인의 소득세를 계산하는 데 필요한 구체적인 세율 정보가 포함되어 있지 않습니다. 한국의 소득세율은 다양한 요인에 따라 달라질 수 있으므로, 정확한 계산을 위해서는 최신 세법 자료나 세무 전문가의 조언이 필요합니다.\n"
     ]
    }
   ],
   "source": [
    "# Retrieval -> Question -> Answer \n",
    "from langchain.chains import RetrievalQA\n",
    "\n",
    "# QA chain 만들기 \n",
    "qa_chain = RetrievalQA.from_chain_type(\n",
    "    llm=llm, \n",
    "    retriever=retriever, \n",
    "    chain_type_kwargs={\"prompt\": prompt}\n",
    ")\n",
    "\n",
    "ai_message = qa_chain.invoke({\"query\": query})\n",
    "print(ai_message[\"query\"])\n",
    "print(ai_message[\"result\"])\n"
   ]
  }
 ],
 "metadata": {
  "kernelspec": {
   "display_name": "study",
   "language": "python",
   "name": "python3"
  },
  "language_info": {
   "codemirror_mode": {
    "name": "ipython",
    "version": 3
   },
   "file_extension": ".py",
   "mimetype": "text/x-python",
   "name": "python",
   "nbconvert_exporter": "python",
   "pygments_lexer": "ipython3",
   "version": "3.12.7"
  }
 },
 "nbformat": 4,
 "nbformat_minor": 2
}
