{
 "cells": [
  {
   "cell_type": "code",
   "execution_count": 50,
   "metadata": {},
   "outputs": [],
   "source": [
    "from langchain_community.document_loaders import Docx2txtLoader\n",
    "from langchain_text_splitters import RecursiveCharacterTextSplitter\n",
    "\n",
    "loader = Docx2txtLoader(\"./tax_with_markdown.docx\")\n",
    "# document = loader.load()\n",
    "\n",
    "# print(document)\n",
    "# len(document)\n",
    "\n",
    "text_splitter = RecursiveCharacterTextSplitter(\n",
    "    chunk_size = 1500,  # 문서 쪼갤 때 하나의 chunk 가 가지는 토큰 수\n",
    "    chunk_overlap = 200,  # 쪼갤 때, 별개로 짜르는 게 아니라, 겹치게 해서 split \n",
    ")\n",
    "\n",
    "document_list = loader.load_and_split(text_splitter=text_splitter)\n",
    "# print(document_list)"
   ]
  },
  {
   "cell_type": "code",
   "execution_count": 4,
   "metadata": {},
   "outputs": [
    {
     "name": "stderr",
     "output_type": "stream",
     "text": [
      "d:\\Program\\miniconda3\\envs\\study\\Lib\\site-packages\\langsmith\\client.py:241: LangSmithMissingAPIKeyWarning: API key must be provided when using hosted LangSmith API\n",
      "  warnings.warn(\n"
     ]
    },
    {
     "name": "stdout",
     "output_type": "stream",
     "text": [
      "연봉 5천만원인 거주자의 종합소득세는 624만원입니다. 이는 5,000만원 초과 금액에 대해 추가 세율이 적용되지 않기 때문입니다.\n"
     ]
    }
   ],
   "source": [
    "import os \n",
    "\n",
    "from dotenv import load_dotenv\n",
    "from langchain_core.output_parsers import StrOutputParser\n",
    "from langchain_core.prompts import ChatPromptTemplate\n",
    "from langchain.chains import RetrievalQA\n",
    "from langchain import hub\n",
    "from langchain_openai import ChatOpenAI\n",
    "from langchain_openai import OpenAIEmbeddings\n",
    "from langchain_pinecone import PineconeVectorStore\n",
    "\n",
    "load_dotenv() # 환경변수 불러오기 \n",
    "\n",
    "embedding = OpenAIEmbeddings(model='text-embedding-3-large') \n",
    "index_name = 'tax-markdown-index'\n",
    "database = PineconeVectorStore.from_existing_index(index_name=index_name, embedding=embedding)\n",
    "\n",
    "\n",
    "query = '연봉 5천만원인 직장인의 종합소득세는 얼마인가요?'\n",
    "\n",
    "\n",
    "llm = ChatOpenAI(model='gpt-4o')\n",
    "prompt = hub.pull(\"rlm/rag-prompt\")\n",
    "retriever = database.as_retriever(search_kwargs={'k': 7})\n",
    "\n",
    "# QA chain 만들기 \n",
    "qa_chain = RetrievalQA.from_chain_type(\n",
    "    llm=llm, \n",
    "    retriever=retriever, \n",
    "    chain_type_kwargs={\"prompt\": prompt}\n",
    ")\n",
    "\n",
    "ai_message = qa_chain.invoke({\"query\": query})\n",
    "\n",
    "dictionary = [\"사람을 나타내는 표현 -> 거주자\"]\n",
    "prompt = ChatPromptTemplate.from_template(f\"\"\"\n",
    "    사용자의 질문을 보고, 우리의 사전을 참고해서 사용자의 질문을 변경해주세요.\n",
    "    만약 변경할 필요가 없다고 판단된다면, 사용자의 질문을 변경하지 않아도 됩니다. \n",
    "    그런 경우에는 {{question}}\n",
    "    사전: {dictionary}\n",
    "    질문: {{question}}\n",
    "\"\"\")\n",
    "\n",
    "# query -> 직장인 -> 거주자 chain 추가 \n",
    "dictionary_chain = prompt | llm | StrOutputParser()\n",
    "tax_chain = {\"query\": dictionary_chain} | qa_chain\n",
    "\n",
    "ai_response = tax_chain.invoke({\"question\": query})\n",
    "\n",
    "print(ai_response[\"result\"])"
   ]
  },
  {
   "cell_type": "code",
   "execution_count": null,
   "metadata": {},
   "outputs": [],
   "source": []
  }
 ],
 "metadata": {
  "kernelspec": {
   "display_name": "study",
   "language": "python",
   "name": "python3"
  },
  "language_info": {
   "codemirror_mode": {
    "name": "ipython",
    "version": 3
   },
   "file_extension": ".py",
   "mimetype": "text/x-python",
   "name": "python",
   "nbconvert_exporter": "python",
   "pygments_lexer": "ipython3",
   "version": "3.12.7"
  }
 },
 "nbformat": 4,
 "nbformat_minor": 2
}
